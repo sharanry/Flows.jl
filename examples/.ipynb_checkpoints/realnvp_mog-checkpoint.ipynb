{
 "cells": [
  {
   "cell_type": "code",
   "execution_count": 1,
   "metadata": {},
   "outputs": [],
   "source": [
    "# using CuArrays # comment me out if you don't want to use GPU\n",
    "using Flux, Flows\n",
    "import Distributions: rand, logpdf\n",
    "import PyPlot; const plt = PyPlot\n",
    "using Tracker: update!"
   ]
  },
  {
   "cell_type": "markdown",
   "metadata": {},
   "source": [
    "## Generate some data from a mixture of two Gaussians to use"
   ]
  },
  {
   "cell_type": "code",
   "execution_count": 2,
   "metadata": {},
   "outputs": [
    {
     "data": {
      "image/png": "[encoded data removed]",
      "text/plain": [
       "PyPlot.Figure(PyObject <Figure size 500x500 with 1 Axes>)"
      ]
     },
     "metadata": {},
     "output_type": "display_data"
    },
    {
     "data": {
      "text/plain": [
       "2×100 Array{Float32,2}:\n",
       " 3.54018  0.863364  2.48866  2.64293  …  -3.78286  -2.2298   -1.12729\n",
       " 2.40942  2.44353   2.4758   2.7614      -2.96977  -3.09246  -2.73   "
      ]
     },
     "execution_count": 2,
     "metadata": {},
     "output_type": "execute_result"
    }
   ],
   "source": [
    "X = randn(Float32, 2, 100)\n",
    "X[:,1:50] .*= 0.5\n",
    "X[:,1:50] .+= 5.0\n",
    "X .-= 2.5\n",
    "\n",
    "plt.figure(figsize=(5, 5))\n",
    "plt.scatter(X[1,:], X[2,:])\n",
    "\n",
    "# Send data to GPU\n",
    "X = X |> gpu"
   ]
  },
  {
   "cell_type": "markdown",
   "metadata": {},
   "source": [
    "## Create a normalising flow by stacking multiple affine coupling layers\n",
    "\n",
    "$$ f = f_1 \\circ f_2 \\circ \\cdots \\circ f_{N-1} \\circ f_N : \\mathcal{Z} \\rightarrow \\mathcal{X}$$\n",
    "\n",
    "We assume base distribution is the unit Gaussian, i.e. $p_{\\mathcal{Z}} = \\mathcal{N}(0,1)$."
   ]
  },
  {
   "cell_type": "code",
   "execution_count": 10,
   "metadata": {},
   "outputs": [],
   "source": [
    "# Define a base distribution that is easy to work with GPU\n",
    "struct MvNormal01\n",
    "    dim::Int\n",
    "end\n",
    "\n",
    "# The constant below is a hack to make things work on GPU.\n",
    "const LOG2PI32 = log(2Float32(pi))\n",
    "logpdf(d::MvNormal01, x) = sum(-(LOG2PI32 .+ x .* x) ./ 2; dims=1)\n",
    "rand(d::MvNormal01, n::Int=1) = randn(Float32, d.dim, n) |> gpu\n",
    "\n",
    "# Make a helper function to composing multiple transformations\n",
    "function stack_affinecouplings(xdim, ntrans; nhiddens=1, hdim=xdim, actfunc=relu)\n",
    "    ts = []\n",
    "    mask = instantiate(AlternatingMasking(xdim)) |> gpu\n",
    "    for _ in 1:ntrans\n",
    "        f1 = Dense(xdim, hdim, actfunc) |> gpu\n",
    "        f21 = Dense(hdim, xdim) |> gpu\n",
    "        f22 = Dense(hdim, xdim) |> gpu\n",
    "        t = AffineCoupling(Chain(f1, f21), Chain(f1, f22), mask)\n",
    "        push!(ts, t)\n",
    "        mask = 1 .- mask\n",
    "    end\n",
    "    return compose(ts...)\n",
    "end\n",
    "\n",
    "NLAYERS = 4\n",
    "H = 20\n",
    "T = stack_affinecouplings(size(X, 1), NLAYERS; hdim=H)\n",
    "base = MvNormal01(size(X, 1))\n",
    "\n",
    "# A normalising flow is nothing but a transformation plus a base distribution\n",
    "flow = Flow(T, base)\n",
    "\n",
    "opt = ADAM(1e-3)\n",
    "ps = params(flow)\n",
    ";"
   ]
  },
  {
   "cell_type": "markdown",
   "metadata": {},
   "source": [
    "## Define loss\n",
    "\n",
    "$$\\mathcal{L} = -\\log p_{\\mathcal{X}}(x) = -\\log p_{\\mathcal{Z}}(f^{-1}(x)) + \\log \\left| \\det \\frac{\\partial f^{-1}(x)}{\\partial x} \\right|,$$\n",
    "\n",
    "where $f^{-1}: \\mathcal{X} \\rightarrow \\mathcal{Z}$."
   ]
  },
  {
   "cell_type": "code",
   "execution_count": 11,
   "metadata": {},
   "outputs": [
    {
     "data": {
      "text/plain": [
       "compute_loss (generic function with 1 method)"
      ]
     },
     "execution_count": 11,
     "metadata": {},
     "output_type": "execute_result"
    }
   ],
   "source": [
    "function compute_loss(x)\n",
    "    # Get the inverse transformation\n",
    "    it = inv(flow.t)\n",
    "    # Do f inverse\n",
    "    z, logdet = it(x)\n",
    "    # Compute log-density\n",
    "    logdensity = logpdf(flow, z) + logdet\n",
    "    return -sum(logdensity) / size(x, 2)\n",
    "end"
   ]
  },
  {
   "cell_type": "markdown",
   "metadata": {},
   "source": [
    "## Run optimisation"
   ]
  },
  {
   "cell_type": "code",
   "execution_count": 12,
   "metadata": {},
   "outputs": [
    {
     "name": "stdout",
     "output_type": "stream",
     "text": [
      "....................................................................................................(100/2000) done\n",
      "....................................................................................................(200/2000) done\n",
      "....................................................................................................(300/2000) done\n",
      "....................................................................................................(400/2000) done\n",
      "....................................................................................................(500/2000) done\n",
      "....................................................................................................(600/2000) done\n",
      "....................................................................................................(700/2000) done\n",
      "....................................................................................................(800/2000) done\n",
      "....................................................................................................(900/2000) done\n",
      "....................................................................................................(1000/2000) done\n",
      "....................................................................................................(1100/2000) done\n",
      "....................................................................................................(1200/2000) done\n",
      "....................................................................................................(1300/2000) done\n",
      "....................................................................................................(1400/2000) done\n",
      "....................................................................................................(1500/2000) done\n",
      "....................................................................................................(1600/2000) done\n",
      "....................................................................................................(1700/2000) done\n",
      "....................................................................................................(1800/2000) done\n",
      "....................................................................................................(1900/2000) done\n",
      "....................................................................................................(2000/2000) done\n"
     ]
    }
   ],
   "source": [
    "niters = 2_000\n",
    "\n",
    "for iter = 1:niters\n",
    "    print(\".\"); if iter % 100 == 0 println(\"($iter/$niters) done\") end\n",
    "    loss = compute_loss(X)\n",
    "    gs = Tracker.gradient(() -> loss, ps)\n",
    "    update!(opt, ps, gs)\n",
    "end"
   ]
  },
  {
   "cell_type": "markdown",
   "metadata": {},
   "source": [
    "## Draw samples\n",
    "\n",
    "$$ z \\sim \\mathcal{N}(0,1) $$\n",
    "$$ x = f(z) $$"
   ]
  },
  {
   "cell_type": "code",
   "execution_count": 13,
   "metadata": {},
   "outputs": [
    {
     "data": {
      "image/png": "[encoded data removed]",
      "text/plain": [
       "PyPlot.Figure(PyObject <Figure size 500x500 with 1 Axes>)"
      ]
     },
     "metadata": {},
     "output_type": "display_data"
    },
    {
     "data": {
      "text/plain": [
       "(-6.188000202178955, 4.5166215896606445)"
      ]
     },
     "execution_count": 13,
     "metadata": {},
     "output_type": "execute_result"
    }
   ],
   "source": [
    "# Draw 100 samples from the normalising flow\n",
    "Xgen = rand(flow, 100) |> cpu |> Flux.data\n",
    "\n",
    "plt.figure(figsize=(5,5))\n",
    "plt.scatter(X[1,:], X[2,:], c=\"blue\", alpha=0.5, label=\"data\")\n",
    "plt.scatter(Xgen[1,:], Xgen[2,:], c=\"red\", alpha=0.5, label=\"samples\")\n",
    "plt.xlim([extrema(X[1,:])...] + [-1, 1])\n",
    "plt.ylim([extrema(X[2,:])...] + [-1, 1])"
   ]
  },
  {
   "cell_type": "code",
   "execution_count": null,
   "metadata": {},
   "outputs": [],
   "source": []
  }
 ],
 "metadata": {
  "kernelspec": {
   "display_name": "Julia 1.1.0",
   "language": "julia",
   "name": "julia-1.1"
  },
  "language_info": {
   "file_extension": ".jl",
   "mimetype": "application/julia",
   "name": "julia",
   "version": "1.1.0"
  }
 },
 "nbformat": 4,
 "nbformat_minor": 4
}
